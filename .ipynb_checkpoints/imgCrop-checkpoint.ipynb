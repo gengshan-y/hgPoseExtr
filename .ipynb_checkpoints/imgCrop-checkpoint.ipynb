{
 "cells": [
  {
   "cell_type": "code",
   "execution_count": 2,
   "metadata": {
    "collapsed": false
   },
   "outputs": [],
   "source": [
    "import numpy as np\n",
    "import math\n",
    "import scipy.misc as imLib\n",
    "# from IPython.display import Image"
   ]
  },
  {
   "cell_type": "code",
   "execution_count": 153,
   "metadata": {
    "collapsed": false
   },
   "outputs": [
    {
     "name": "stdout",
     "output_type": "stream",
     "text": [
      "before:\n",
      "original coordinate:\n",
      "upper left x = -307.0 upper left y = -269.0\n",
      "bottom right x = 493.0 bottom right y = 531.0\n",
      "new coordinate:\n",
      "upper left x = 307.0 upper left y = 269.0\n",
      "bottom right x = 563.0 bottom right y = 525.0\n",
      "after:\n",
      "original coordinate:\n",
      "upper left x = 0 upper left y = 0\n",
      "bottom right x = 256 bottom right y = 256\n",
      "new coordinate:\n",
      "upper left x = 307.0 upper left y = 269.0\n",
      "bottom right x = 563.0 bottom right y = 525.0\n",
      "(256, 256, 3)\n"
     ]
    },
    {
     "name": "stderr",
     "output_type": "stream",
     "text": [
      "/home/gengshan/workJun/ipynbtest/env2/lib/python2.7/site-packages/ipykernel/__main__.py:23: VisibleDeprecationWarning: using a non-integer number instead of an integer will result in an error in the future\n",
      "/home/gengshan/workJun/ipynbtest/env2/lib/python2.7/site-packages/ipykernel/__main__.py:58: VisibleDeprecationWarning: using a non-integer number instead of an integer will result in an error in the future\n"
     ]
    },
    {
     "data": {
      "image/png": "[encoded data removed]",
      "text/plain": [
       "<IPython.core.display.Image object>"
      ]
     },
     "execution_count": 153,
     "metadata": {},
     "output_type": "execute_result"
    }
   ],
   "source": [
    "img = imLib.imread('/data2/gengshan/tmp/oyDVX7IPvag_30/oyDVX7IPvag_30_0000210.jpg')\n",
    "# np.random.rand(newDim[0], newDim[1], newDim[2])\n",
    "newImg = crop(img ,[93.076, 131.071],4,256)  # width, height\n",
    "imLib.imsave('test.png', newImg)\n",
    "Image('test.png') "
   ]
  },
  {
   "cell_type": "code",
   "execution_count": 149,
   "metadata": {
    "collapsed": false
   },
   "outputs": [],
   "source": [
    "def crop(img, center, scale, res):\n",
    "    oriwd, oriht, oricha = img.shape\n",
    "    \n",
    "    ## new img in origin img coordinate\n",
    "    sz = scale *200\n",
    "    ul = [math.floor(center[0] - sz/2), math.floor(center[1] - sz/2)]\n",
    "    br = [math.floor(center[0] + sz/2), math.floor(center[1] + sz/2)]\n",
    "    \n",
    "    ## ori img in new img coordinate\n",
    "    loc_ul = np.multiply(ul, -1)\n",
    "    loc_br = [oriwd - br[0] + sz, oriht - br[1] + sz]\n",
    "\n",
    "    print('before:')\n",
    "    print('original coordinate:')\n",
    "    print('upper left x = ' + str(ul[0]) + ' upper left y = ' + str(ul[1]))\n",
    "    print('bottom right x = ' + str(br[0]) + ' bottom right y = ' + str(br[1]))\n",
    "    print('new coordinate:')\n",
    "    print('upper left x = ' + str(loc_ul[0]) + ' upper left y = ' + str(loc_ul[1]))\n",
    "    print('bottom right x = ' + str(loc_br[0]) + ' bottom right y = ' + str(loc_br[1]))\n",
    "\n",
    "    \n",
    "    newDim = [br[1] - ul[1], br[0] - ul[0], img.shape[2]]\n",
    "    newImg = np.zeros(newDim)\n",
    "    \n",
    "    if loc_ul[0] < 0:\n",
    "        loc_ul[0] = 0\n",
    "        \n",
    "    if loc_ul[1] < 0:\n",
    "        loc_ul[1] = 0\n",
    "        \n",
    "    if loc_br[0] > newDim[0]:\n",
    "        loc_br[0] = newDim[0]\n",
    "        \n",
    "    if loc_br[1] > newDim[1]:\n",
    "        loc_br[1] = newDim[1]\n",
    "        \n",
    "        \n",
    "    if ul[0] < 0:\n",
    "        ul[0] = 0\n",
    "        \n",
    "    if ul[1] < 0:\n",
    "        ul[1] = 0\n",
    "        \n",
    "    if br[0] > oriwd:\n",
    "        br[0] = oriwd\n",
    "        \n",
    "    if br[1] > oriht:\n",
    "        br[1] = oriht\n",
    "        \n",
    "    print('after:')\n",
    "    print('original coordinate:')\n",
    "    print('upper left x = ' + str(ul[0]) + ' upper left y = ' + str(ul[1]))\n",
    "    print('bottom right x = ' + str(br[0]) + ' bottom right y = ' + str(br[1]))\n",
    "    print('new coordinate:')\n",
    "    print('upper left x = ' + str(loc_ul[0]) + ' upper left y = ' + str(loc_ul[1]))\n",
    "    print('bottom right x = ' + str(loc_br[0]) + ' bottom right y = ' + str(loc_br[1]))\n",
    "        \n",
    "    newImg[loc_ul[0] : loc_br[0], loc_ul[1] : loc_br[1]] = img[ul[0] : br[0], ul[1] : br[1]]\n",
    "    newImg = imLib.imresize(newImg, (res, res, 3))\n",
    "    \n",
    "    print(newImg.shape)\n",
    "    return newImg"
   ]
  }
 ],
 "metadata": {
  "kernelspec": {
   "display_name": "Python 2",
   "language": "python",
   "name": "python2"
  },
  "language_info": {
   "codemirror_mode": {
    "name": "ipython",
    "version": 2
   },
   "file_extension": ".py",
   "mimetype": "text/x-python",
   "name": "python",
   "nbconvert_exporter": "python",
   "pygments_lexer": "ipython2",
   "version": "2.7.6"
  }
 },
 "nbformat": 4,
 "nbformat_minor": 0
}
