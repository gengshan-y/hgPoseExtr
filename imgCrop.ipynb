{
 "cells": [
  {
   "cell_type": "code",
   "execution_count": 26,
   "metadata": {
    "collapsed": false
   },
   "outputs": [],
   "source": [
    "import scipy.misc as imLib\n",
    "from IPython.display import Image\n",
    "from imgCropTool import *\n",
    "import time\n",
    "import string\n",
    "import os"
   ]
  },
  {
   "cell_type": "code",
   "execution_count": 27,
   "metadata": {
    "collapsed": true
   },
   "outputs": [],
   "source": [
    "with open('/home/gengshan/workJul/darknet/results/comp4_det_test_person.txt', 'r') as f:\n",
    "    wholeDict = f.readlines()"
   ]
  },
  {
   "cell_type": "code",
   "execution_count": 32,
   "metadata": {
    "collapsed": false
   },
   "outputs": [
    {
     "data": {
      "text/plain": [
       "57.53656"
      ]
     },
     "execution_count": 32,
     "metadata": {},
     "output_type": "execute_result"
    }
   ],
   "source": [
    "2876828./50000"
   ]
  },
  {
   "cell_type": "code",
   "execution_count": 30,
   "metadata": {
    "collapsed": false
   },
   "outputs": [
    {
     "name": "stdout",
     "output_type": "stream",
     "text": [
      "0 0.700 /data2/gengshan/tmp/PPisoOANlEY_1/PPisoOANlEY_1_0000050.jpg tmp/test_PPisoOANlEY_1_0000050.jpg\n",
      "1 0.856 /data2/gengshan/tmp/PPisoOANlEY_1/PPisoOANlEY_1_0000070.jpg tmp/test_PPisoOANlEY_1_0000070.jpg\n",
      "2 0.815 /data2/gengshan/tmp/PPisoOANlEY_1/PPisoOANlEY_1_0000080.jpg tmp/test_PPisoOANlEY_1_0000080.jpg\n",
      "3 0.511 /data2/gengshan/tmp/PPisoOANlEY_1/PPisoOANlEY_1_0000030.jpg tmp/test_PPisoOANlEY_1_0000030.jpg\n",
      "4 0.473 /data2/gengshan/tmp/PPisoOANlEY_1/PPisoOANlEY_1_0000040.jpg tmp/test_PPisoOANlEY_1_0000040.jpg\n",
      "5 0.711 /data2/gengshan/tmp/PPisoOANlEY_1/PPisoOANlEY_1_0000090.jpg tmp/test_PPisoOANlEY_1_0000090.jpg\n",
      "6 0.548 /data2/gengshan/tmp/PPisoOANlEY_1/PPisoOANlEY_1_0000020.jpg tmp/test_PPisoOANlEY_1_0000020.jpg\n",
      "7 0.572 /data2/gengshan/tmp/PPisoOANlEY_1/PPisoOANlEY_1_0000010.jpg tmp/test_PPisoOANlEY_1_0000010.jpg\n",
      "8 0.772 /data2/gengshan/tmp/PPisoOANlEY_1/PPisoOANlEY_1_0000060.jpg tmp/test_PPisoOANlEY_1_0000060.jpg\n",
      "9 0.798 /data2/gengshan/tmp/PPisoOANlEY_2/PPisoOANlEY_2_0000100.jpg tmp/test_PPisoOANlEY_2_0000100.jpg\n",
      "10 0.959 /data2/gengshan/tmp/PPisoOANlEY_2/PPisoOANlEY_2_0000080.jpg tmp/test_PPisoOANlEY_2_0000080.jpg\n",
      "11 0.797 /data2/gengshan/tmp/PPisoOANlEY_2/PPisoOANlEY_2_0000260.jpg tmp/test_PPisoOANlEY_2_0000260.jpg\n",
      "12 0.541 /data2/gengshan/tmp/PPisoOANlEY_2/PPisoOANlEY_2_0000020.jpg tmp/test_PPisoOANlEY_2_0000020.jpg\n",
      "13 0.722 /data2/gengshan/tmp/PPisoOANlEY_2/PPisoOANlEY_2_0000170.jpg tmp/test_PPisoOANlEY_2_0000170.jpg\n",
      "14 0.838 /data2/gengshan/tmp/PPisoOANlEY_2/PPisoOANlEY_2_0000090.jpg tmp/test_PPisoOANlEY_2_0000090.jpg\n",
      "15 0.699 /data2/gengshan/tmp/PPisoOANlEY_2/PPisoOANlEY_2_0000240.jpg tmp/test_PPisoOANlEY_2_0000240.jpg\n",
      "16 0.789 /data2/gengshan/tmp/PPisoOANlEY_2/PPisoOANlEY_2_0000230.jpg tmp/test_PPisoOANlEY_2_0000230.jpg\n",
      "17 0.754 /data2/gengshan/tmp/PPisoOANlEY_2/PPisoOANlEY_2_0000130.jpg tmp/test_PPisoOANlEY_2_0000130.jpg\n",
      "18 0.736 /data2/gengshan/tmp/PPisoOANlEY_2/PPisoOANlEY_2_0000180.jpg tmp/test_PPisoOANlEY_2_0000180.jpg\n",
      "19 0.847 /data2/gengshan/tmp/PPisoOANlEY_2/PPisoOANlEY_2_0000060.jpg tmp/test_PPisoOANlEY_2_0000060.jpg\n",
      "20 0.744 /data2/gengshan/tmp/PPisoOANlEY_2/PPisoOANlEY_2_0000110.jpg tmp/test_PPisoOANlEY_2_0000110.jpg\n",
      "21 0.693 /data2/gengshan/tmp/PPisoOANlEY_2/PPisoOANlEY_2_0000190.jpg tmp/test_PPisoOANlEY_2_0000190.jpg\n",
      "22 0.906 /data2/gengshan/tmp/PPisoOANlEY_2/PPisoOANlEY_2_0000070.jpg tmp/test_PPisoOANlEY_2_0000070.jpg\n",
      "23 0.694 /data2/gengshan/tmp/PPisoOANlEY_2/PPisoOANlEY_2_0000220.jpg tmp/test_PPisoOANlEY_2_0000220.jpg\n",
      "24 0.617 /data2/gengshan/tmp/PPisoOANlEY_2/PPisoOANlEY_2_0000140.jpg tmp/test_PPisoOANlEY_2_0000140.jpg\n",
      "25 0.741 /data2/gengshan/tmp/PPisoOANlEY_2/PPisoOANlEY_2_0000040.jpg tmp/test_PPisoOANlEY_2_0000040.jpg\n",
      "26 0.772 /data2/gengshan/tmp/PPisoOANlEY_2/PPisoOANlEY_2_0000210.jpg tmp/test_PPisoOANlEY_2_0000210.jpg\n",
      "27 0.682 /data2/gengshan/tmp/PPisoOANlEY_2/PPisoOANlEY_2_0000200.jpg tmp/test_PPisoOANlEY_2_0000200.jpg\n",
      "28 0.835 /data2/gengshan/tmp/PPisoOANlEY_2/PPisoOANlEY_2_0000250.jpg tmp/test_PPisoOANlEY_2_0000250.jpg\n",
      "29 0.626 /data2/gengshan/tmp/PPisoOANlEY_2/PPisoOANlEY_2_0000030.jpg tmp/test_PPisoOANlEY_2_0000030.jpg\n",
      "30 0.812 /data2/gengshan/tmp/PPisoOANlEY_2/PPisoOANlEY_2_0000270.jpg tmp/test_PPisoOANlEY_2_0000270.jpg\n",
      "31 0.609 /data2/gengshan/tmp/PPisoOANlEY_2/PPisoOANlEY_2_0000010.jpg tmp/test_PPisoOANlEY_2_0000010.jpg\n",
      "32 0.784 /data2/gengshan/tmp/PPisoOANlEY_2/PPisoOANlEY_2_0000120.jpg tmp/test_PPisoOANlEY_2_0000120.jpg\n",
      "33 0.746 /data2/gengshan/tmp/PPisoOANlEY_2/PPisoOANlEY_2_0000160.jpg tmp/test_PPisoOANlEY_2_0000160.jpg\n",
      "34 0.657 /data2/gengshan/tmp/PPisoOANlEY_2/PPisoOANlEY_2_0000150.jpg tmp/test_PPisoOANlEY_2_0000150.jpg\n",
      "35 0.842 /data2/gengshan/tmp/PPisoOANlEY_2/PPisoOANlEY_2_0000050.jpg tmp/test_PPisoOANlEY_2_0000050.jpg\n",
      "36 0.731 /data2/gengshan/tmp/PPisoOANlEY_3/PPisoOANlEY_3_0000150.jpg tmp/test_PPisoOANlEY_3_0000150.jpg\n",
      "37 0.811 /data2/gengshan/tmp/PPisoOANlEY_3/PPisoOANlEY_3_0000270.jpg tmp/test_PPisoOANlEY_3_0000270.jpg\n",
      "38 0.829 /data2/gengshan/tmp/PPisoOANlEY_3/PPisoOANlEY_3_0000010.jpg tmp/test_PPisoOANlEY_3_0000010.jpg\n",
      "39 0.640 /data2/gengshan/tmp/PPisoOANlEY_3/PPisoOANlEY_3_0000160.jpg tmp/test_PPisoOANlEY_3_0000160.jpg\n",
      "40 0.839 /data2/gengshan/tmp/PPisoOANlEY_3/PPisoOANlEY_3_0000050.jpg tmp/test_PPisoOANlEY_3_0000050.jpg\n",
      "41 0.819 /data2/gengshan/tmp/PPisoOANlEY_3/PPisoOANlEY_3_0000260.jpg tmp/test_PPisoOANlEY_3_0000260.jpg\n",
      "42 0.755 /data2/gengshan/tmp/PPisoOANlEY_3/PPisoOANlEY_3_0000070.jpg tmp/test_PPisoOANlEY_3_0000070.jpg\n",
      "43 0.629 /data2/gengshan/tmp/PPisoOANlEY_3/PPisoOANlEY_3_0000240.jpg tmp/test_PPisoOANlEY_3_0000240.jpg\n",
      "44 0.492 /data2/gengshan/tmp/PPisoOANlEY_3/PPisoOANlEY_3_0000090.jpg tmp/test_PPisoOANlEY_3_0000090.jpg\n",
      "45 0.538 /data2/gengshan/tmp/PPisoOANlEY_3/PPisoOANlEY_3_0000080.jpg tmp/test_PPisoOANlEY_3_0000080.jpg\n",
      "46 0.677 /data2/gengshan/tmp/PPisoOANlEY_3/PPisoOANlEY_3_0000100.jpg tmp/test_PPisoOANlEY_3_0000100.jpg\n",
      "47 0.540 /data2/gengshan/tmp/PPisoOANlEY_3/PPisoOANlEY_3_0000220.jpg tmp/test_PPisoOANlEY_3_0000220.jpg\n",
      "48 0.768 /data2/gengshan/tmp/PPisoOANlEY_3/PPisoOANlEY_3_0000190.jpg tmp/test_PPisoOANlEY_3_0000190.jpg\n",
      "49 0.676 /data2/gengshan/tmp/PPisoOANlEY_3/PPisoOANlEY_3_0000170.jpg tmp/test_PPisoOANlEY_3_0000170.jpg\n",
      "50 0.835 /data2/gengshan/tmp/PPisoOANlEY_3/PPisoOANlEY_3_0000280.jpg tmp/test_PPisoOANlEY_3_0000280.jpg\n",
      "51 0.718 /data2/gengshan/tmp/PPisoOANlEY_3/PPisoOANlEY_3_0000180.jpg tmp/test_PPisoOANlEY_3_0000180.jpg\n",
      "52 0.944 /data2/gengshan/tmp/PPisoOANlEY_3/PPisoOANlEY_3_0000110.jpg tmp/test_PPisoOANlEY_3_0000110.jpg\n",
      "53 0.699 /data2/gengshan/tmp/PPisoOANlEY_3/PPisoOANlEY_3_0000140.jpg tmp/test_PPisoOANlEY_3_0000140.jpg\n",
      "54 0.498 /data2/gengshan/tmp/PPisoOANlEY_3/PPisoOANlEY_3_0000210.jpg tmp/test_PPisoOANlEY_3_0000210.jpg\n",
      "55 0.794 /data2/gengshan/tmp/PPisoOANlEY_3/PPisoOANlEY_3_0000060.jpg tmp/test_PPisoOANlEY_3_0000060.jpg\n",
      "56 0.892 /data2/gengshan/tmp/PPisoOANlEY_3/PPisoOANlEY_3_0000040.jpg tmp/test_PPisoOANlEY_3_0000040.jpg\n",
      "57 0.640 /data2/gengshan/tmp/PPisoOANlEY_3/PPisoOANlEY_3_0000200.jpg tmp/test_PPisoOANlEY_3_0000200.jpg\n",
      "58 0.861 /data2/gengshan/tmp/PPisoOANlEY_3/PPisoOANlEY_3_0000030.jpg tmp/test_PPisoOANlEY_3_0000030.jpg\n",
      "59 0.845 /data2/gengshan/tmp/PPisoOANlEY_3/PPisoOANlEY_3_0000020.jpg tmp/test_PPisoOANlEY_3_0000020.jpg\n",
      "60 0.768 /data2/gengshan/tmp/PPisoOANlEY_3/PPisoOANlEY_3_0000250.jpg tmp/test_PPisoOANlEY_3_0000250.jpg\n",
      "61 0.867 /data2/gengshan/tmp/PPisoOANlEY_3/PPisoOANlEY_3_0000120.jpg tmp/test_PPisoOANlEY_3_0000120.jpg\n",
      "62 0.751 /data2/gengshan/tmp/PPisoOANlEY_3/PPisoOANlEY_3_0000130.jpg tmp/test_PPisoOANlEY_3_0000130.jpg\n",
      "63 0.696 /data2/gengshan/tmp/PPisoOANlEY_3/PPisoOANlEY_3_0000290.jpg tmp/test_PPisoOANlEY_3_0000290.jpg\n",
      "64 0.494 /data2/gengshan/tmp/PPisoOANlEY_3/PPisoOANlEY_3_0000230.jpg tmp/test_PPisoOANlEY_3_0000230.jpg\n",
      "65 0.881 /data2/gengshan/tmp/PPisoOANlEY_4/PPisoOANlEY_4_0000060.jpg tmp/test_PPisoOANlEY_4_0000060.jpg\n",
      "66 0.851 /data2/gengshan/tmp/PPisoOANlEY_4/PPisoOANlEY_4_0000050.jpg tmp/test_PPisoOANlEY_4_0000050.jpg\n",
      "67 0.748 /data2/gengshan/tmp/PPisoOANlEY_4/PPisoOANlEY_4_0000150.jpg tmp/test_PPisoOANlEY_4_0000150.jpg\n",
      "68 0.726 /data2/gengshan/tmp/PPisoOANlEY_4/PPisoOANlEY_4_0000070.jpg tmp/test_PPisoOANlEY_4_0000070.jpg\n",
      "69 0.319 /data2/gengshan/tmp/PPisoOANlEY_4/PPisoOANlEY_4_0000100.jpg tmp/test_PPisoOANlEY_4_0000100.jpg\n",
      "70 0.680 /data2/gengshan/tmp/PPisoOANlEY_4/PPisoOANlEY_4_0000160.jpg tmp/test_PPisoOANlEY_4_0000160.jpg\n",
      "71 0.804 /data2/gengshan/tmp/PPisoOANlEY_4/PPisoOANlEY_4_0000030.jpg tmp/test_PPisoOANlEY_4_0000030.jpg\n",
      "72 0.815 /data2/gengshan/tmp/PPisoOANlEY_4/PPisoOANlEY_4_0000140.jpg tmp/test_PPisoOANlEY_4_0000140.jpg\n",
      "73 0.733 /data2/gengshan/tmp/PPisoOANlEY_4/PPisoOANlEY_4_0000080.jpg tmp/test_PPisoOANlEY_4_0000080.jpg\n",
      "74 0.774 /data2/gengshan/tmp/PPisoOANlEY_4/PPisoOANlEY_4_0000010.jpg tmp/test_PPisoOANlEY_4_0000010.jpg\n",
      "75 0.325 /data2/gengshan/tmp/PPisoOANlEY_4/PPisoOANlEY_4_0000120.jpg tmp/test_PPisoOANlEY_4_0000120.jpg\n",
      "76 0.504 /data2/gengshan/tmp/PPisoOANlEY_4/PPisoOANlEY_4_0000110.jpg tmp/test_PPisoOANlEY_4_0000110.jpg\n",
      "77 0.759 /data2/gengshan/tmp/PPisoOANlEY_4/PPisoOANlEY_4_0000020.jpg tmp/test_PPisoOANlEY_4_0000020.jpg\n",
      "78 0.782 /data2/gengshan/tmp/PPisoOANlEY_4/PPisoOANlEY_4_0000040.jpg tmp/test_PPisoOANlEY_4_0000040.jpg\n",
      "79 0.204 /data2/gengshan/tmp/PPisoOANlEY_4/PPisoOANlEY_4_0000130.jpg tmp/test_PPisoOANlEY_4_0000130.jpg\n",
      "80 0.218 /data2/gengshan/tmp/PPisoOANlEY_4/PPisoOANlEY_4_0000090.jpg tmp/test_PPisoOANlEY_4_0000090.jpg\n",
      "81 0.526 /data2/gengshan/tmp/PPisoOANlEY_5/PPisoOANlEY_5_0000220.jpg tmp/test_PPisoOANlEY_5_0000220.jpg\n",
      "82 0.386 /data2/gengshan/tmp/PPisoOANlEY_5/PPisoOANlEY_5_0000190.jpg tmp/test_PPisoOANlEY_5_0000190.jpg\n",
      "83 0.853 /data2/gengshan/tmp/PPisoOANlEY_5/PPisoOANlEY_5_0000030.jpg tmp/test_PPisoOANlEY_5_0000030.jpg\n",
      "84 0.720 /data2/gengshan/tmp/PPisoOANlEY_5/PPisoOANlEY_5_0000110.jpg tmp/test_PPisoOANlEY_5_0000110.jpg\n",
      "85 0.846 /data2/gengshan/tmp/PPisoOANlEY_5/PPisoOANlEY_5_0000050.jpg tmp/test_PPisoOANlEY_5_0000050.jpg\n",
      "86 0.730 /data2/gengshan/tmp/PPisoOANlEY_5/PPisoOANlEY_5_0000080.jpg tmp/test_PPisoOANlEY_5_0000080.jpg\n",
      "87 0.334 /data2/gengshan/tmp/PPisoOANlEY_5/PPisoOANlEY_5_0000230.jpg tmp/test_PPisoOANlEY_5_0000230.jpg\n",
      "88 0.735 /data2/gengshan/tmp/PPisoOANlEY_5/PPisoOANlEY_5_0000010.jpg tmp/test_PPisoOANlEY_5_0000010.jpg\n",
      "89 0.414 /data2/gengshan/tmp/PPisoOANlEY_5/PPisoOANlEY_5_0000120.jpg tmp/test_PPisoOANlEY_5_0000120.jpg\n",
      "90 0.468 /data2/gengshan/tmp/PPisoOANlEY_5/PPisoOANlEY_5_0000130.jpg tmp/test_PPisoOANlEY_5_0000130.jpg\n",
      "91 0.632 /data2/gengshan/tmp/PPisoOANlEY_5/PPisoOANlEY_5_0000090.jpg tmp/test_PPisoOANlEY_5_0000090.jpg\n",
      "92 0.614 /data2/gengshan/tmp/PPisoOANlEY_5/PPisoOANlEY_5_0000160.jpg tmp/test_PPisoOANlEY_5_0000160.jpg\n",
      "93 0.712 /data2/gengshan/tmp/PPisoOANlEY_5/PPisoOANlEY_5_0000250.jpg tmp/test_PPisoOANlEY_5_0000250.jpg\n",
      "94 0.419 /data2/gengshan/tmp/PPisoOANlEY_5/PPisoOANlEY_5_0000210.jpg tmp/test_PPisoOANlEY_5_0000210.jpg\n",
      "95 0.576 /data2/gengshan/tmp/PPisoOANlEY_5/PPisoOANlEY_5_0000140.jpg tmp/test_PPisoOANlEY_5_0000140.jpg\n",
      "96 0.858 /data2/gengshan/tmp/PPisoOANlEY_5/PPisoOANlEY_5_0000020.jpg tmp/test_PPisoOANlEY_5_0000020.jpg\n",
      "97 0.770 /data2/gengshan/tmp/PPisoOANlEY_5/PPisoOANlEY_5_0000070.jpg tmp/test_PPisoOANlEY_5_0000070.jpg\n",
      "98 0.586 /data2/gengshan/tmp/PPisoOANlEY_5/PPisoOANlEY_5_0000150.jpg tmp/test_PPisoOANlEY_5_0000150.jpg\n",
      "99 0.585 /data2/gengshan/tmp/PPisoOANlEY_5/PPisoOANlEY_5_0000180.jpg tmp/test_PPisoOANlEY_5_0000180.jpg\n",
      "lapsed 2.48047184944\n"
     ]
    }
   ],
   "source": [
    "beg = time.time()\n",
    "for it, oriDict in enumerate(wholeDict):\n",
    "    if it < 0:\n",
    "        continue\n",
    "    if it > 99:\n",
    "        break\n",
    "    \n",
    "    oriDict = oriDict.split('\\t')\n",
    "    print(str(it) + ' ' + oriDict[1] + ' ' + oriDict[0] + ' ' + 'tmp/test_' + oriDict[0].split('/')[-1])\n",
    "        \n",
    "    ''' Get image parameters '''\n",
    "    img = imLib.imread(oriDict[0])\n",
    "    wd = float(oriDict[2])\n",
    "    ht = float(oriDict[3])\n",
    "    scale = float(oriDict[4])\n",
    "\n",
    "    ''' Crop image '''\n",
    "    newImg = crop(img ,[wd, ht], scale, 256)  # width, height\n",
    "    \n",
    "    ''' Generate new path '''\n",
    "    newPath = string.replace(oriDict[0], 'tmp', 'poseTmp')\n",
    "    if not os.path.isdir(string.replace(newPath, oriDict[0].split('/')[-1], '')):\n",
    "        os.makedirs(string.replace(newPath, oriDict[0].split('/')[-1], ''))\n",
    "    \n",
    "    ''' Save image '''\n",
    "    imLib.imsave(newPath, newImg)\n",
    "print('lapsed ' + str(time.time() - beg))"
   ]
  },
  {
   "cell_type": "code",
   "execution_count": 52,
   "metadata": {
    "collapsed": false
   },
   "outputs": [
    {
     "data": {
      "image/jpeg": "[encoded data removed]",
      "text/plain": [
       "<IPython.core.display.Image object>"
      ]
     },
     "execution_count": 52,
     "metadata": {},
     "output_type": "execute_result"
    }
   ],
   "source": [
    "Image('/data2/gengshan/tmp/PPisoOANlEY_1/PPisoOANlEY_1_0000050.jpg') "
   ]
  },
  {
   "cell_type": "code",
   "execution_count": 5,
   "metadata": {
    "collapsed": false
   },
   "outputs": [],
   "source": [
    "import math\n",
    "a = [1.1,2.2]\n",
    "a = [math.floor(i) for i in a ]"
   ]
  },
  {
   "cell_type": "code",
   "execution_count": 6,
   "metadata": {
    "collapsed": false
   },
   "outputs": [
    {
     "data": {
      "text/plain": [
       "[1.0, 2.0]"
      ]
     },
     "execution_count": 6,
     "metadata": {},
     "output_type": "execute_result"
    }
   ],
   "source": [
    "a"
   ]
  },
  {
   "cell_type": "code",
   "execution_count": null,
   "metadata": {
    "collapsed": true
   },
   "outputs": [],
   "source": []
  }
 ],
 "metadata": {
  "kernelspec": {
   "display_name": "Python 2",
   "language": "python",
   "name": "python2"
  },
  "language_info": {
   "codemirror_mode": {
    "name": "ipython",
    "version": 2
   },
   "file_extension": ".py",
   "mimetype": "text/x-python",
   "name": "python",
   "nbconvert_exporter": "python",
   "pygments_lexer": "ipython2",
   "version": "2.7.6"
  }
 },
 "nbformat": 4,
 "nbformat_minor": 0
}
